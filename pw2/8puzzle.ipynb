{
 "cells": [
  {
   "cell_type": "code",
   "execution_count": 2,
   "metadata": {},
   "outputs": [],
   "source": [
    "from queue import Queue\n"
   ]
  },
  {
   "cell_type": "code",
   "execution_count": 3,
   "metadata": {},
   "outputs": [],
   "source": [
    "initial_grid = [4, 1, 3, 7, 2, 5, 8, 0, 6]"
   ]
  },
  {
   "cell_type": "code",
   "execution_count": 4,
   "metadata": {},
   "outputs": [],
   "source": [
    "def valid_states(grid):\n",
    "    zero_index = grid.index(0)  # Find the index of the empty space\n",
    "    neighbours=[]\n",
    "\n",
    "    moves={\"up\":-3, \"down\":3, \"right\":1, \"left\":-1}\n",
    "\n",
    "    for move in moves:\n",
    "        if (move==\"up\" and zero_index>=3) or (move==\"down\" and zero_index<=5) or (move==\"right\" and zero_index%3!=2) or (move==\"left\" and zero_index%3!=0):\n",
    "            new_index=zero_index+moves[move]\n",
    "            new_state = grid[:]\n",
    "            new_state[zero_index], new_state[new_index] = new_state[new_index], new_state[zero_index]\n",
    "            neighbours.append((move, new_state))\n",
    "    return neighbours"
   ]
  },
  {
   "cell_type": "code",
   "execution_count": 5,
   "metadata": {},
   "outputs": [],
   "source": [
    "def compare_target(grid):\n",
    "    target_grid=[1, 2, 3, 4, 5, 6, 7, 8, 0]\n",
    "    return grid==target_grid"
   ]
  },
  {
   "cell_type": "code",
   "execution_count": null,
   "metadata": {},
   "outputs": [],
   "source": [
    "def breadth_first_search():\n",
    "    queue=Queue()\n",
    "    queue.put((initial_grid, []))\n",
    "    visited_nodes=set()\n",
    "    while not queue.empty():\n",
    "        state, path=queue.get()\n",
    "        if compare_target(state):\n",
    "            return path\n",
    "        visited_nodes.add(tuple(state))\n",
    "\n",
    "        neighbours=valid_states(state)\n",
    "        for move, new_state in neighbours:\n",
    "            if tuple(new_state) not in visited_nodes:\n",
    "                queue.put((new_state, path+[move]))\n",
    "\n",
    "    return None"
   ]
  },
  {
   "cell_type": "code",
   "execution_count": null,
   "metadata": {},
   "outputs": [],
   "source": [
    "solution = breadth_first_search()\n",
    "print(solution)  # Output: Shortest path as a list of moves\n"
   ]
  }
 ],
 "metadata": {
  "kernelspec": {
   "display_name": "Python 3",
   "language": "python",
   "name": "python3"
  },
  "language_info": {
   "codemirror_mode": {
    "name": "ipython",
    "version": 3
   },
   "file_extension": ".py",
   "mimetype": "text/x-python",
   "name": "python",
   "nbconvert_exporter": "python",
   "pygments_lexer": "ipython3",
   "version": "3.11.10"
  }
 },
 "nbformat": 4,
 "nbformat_minor": 2
}
